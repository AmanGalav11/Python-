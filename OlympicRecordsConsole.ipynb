{
 "cells": [
  {
   "cell_type": "code",
   "execution_count": 43,
   "id": "807289b6-aaed-41be-8244-0fdbc0e95e7e",
   "metadata": {},
   "outputs": [
    {
     "name": "stdout",
     "output_type": "stream",
     "text": [
      "Olympic Records\n",
      "\n"
     ]
    },
    {
     "name": "stdin",
     "output_type": "stream",
     "text": [
      "Enter the Cuntry Name :  Canada\n"
     ]
    },
    {
     "name": "stdout",
     "output_type": "stream",
     "text": [
      "\n",
      "Select one option :\n",
      "1. Add details \n",
      "2. View details \n",
      "3. View Medal Count by Country \n",
      "4. Search Athlete Performance \n",
      "5. View Event Details \n",
      "6. View Statistics \n",
      "7. Exit.\n",
      "\n"
     ]
    },
    {
     "name": "stdin",
     "output_type": "stream",
     "text": [
      "Enter option number :  1\n",
      "Enter the year or 'done' for exit. 2004\n",
      "Enter the total number's of medal won by Canada in 2004 year. 2\n",
      "Enter the athlete name :  Lori-Ann Muenzer\n",
      "Enter the sport name :  Cycling\n",
      "Enter the medal type ( gold / silver / bronze ) gold\n",
      "Enter the athlete name :  Marie-Helene Premont\n",
      "Enter the sport name :  Cycling\n",
      "Enter the medal type ( gold / silver / bronze ) silver\n",
      "Enter the year or 'done' for exit. 2008\n",
      "Enter the total number's of medal won by Canada in 2008 year. 0\n",
      "Enter the year or 'done' for exit. 2012\n",
      "Enter the total number's of medal won by Canada in 2012 year. 1\n",
      "Enter the athlete name :  Gillian Carleton Jasmin Glaesser Tara Whitten\n",
      "Enter the sport name :  Cycling\n",
      "Enter the medal type ( gold / silver / bronze ) bronze\n",
      "Enter the year or 'done' for exit. 2016\n",
      "Enter the total number's of medal won by Canada in 2016 year. 2\n",
      "Enter the athlete name :  Allison Beveridge Laura Brown Jasmin Glaesser Kirsti Lay Georgia Simmerling\n",
      "Enter the sport name :  Cycling\n",
      "Enter the medal type ( gold / silver / bronze ) bronze\n",
      "Enter the athlete name :  Catharine Pendrel\n",
      "Enter the sport name :  Cycling\n",
      "Enter the medal type ( gold / silver / bronze ) bronze\n",
      "Enter the year or 'done' for exit. 2020\n",
      "Enter the total number's of medal won by Canada in 2020 year. 2\n",
      "Enter the athlete name :  Kelsey Mitchell\n",
      "Enter the sport name :  Cycling\n",
      "Enter the medal type ( gold / silver / bronze ) gold\n",
      "Enter the athlete name :  Lauriane Genest\n",
      "Enter the sport name :  Cycling\n",
      "Enter the medal type ( gold / silver / bronze ) bronze\n",
      "Enter the year or 'done' for exit. done\n"
     ]
    },
    {
     "name": "stdout",
     "output_type": "stream",
     "text": [
      "\n",
      "Select one option :\n",
      "1. Add details \n",
      "2. View details \n",
      "3. View Medal Count by Country \n",
      "4. Search Athlete Performance \n",
      "5. View Event Details \n",
      "6. View Statistics \n",
      "7. Exit.\n",
      "\n"
     ]
    },
    {
     "name": "stdin",
     "output_type": "stream",
     "text": [
      "Enter option number :  2\n"
     ]
    },
    {
     "name": "stdout",
     "output_type": "stream",
     "text": [
      "\n",
      "Year                 Name                 Cuntry               Sport                Medal_Type          \n",
      "\n",
      "2004                 Lori-Ann Muenzer     Canada               Cycling              gold                \n",
      "\n",
      "2004                 Marie-Helene Premont Canada               Cycling              silver              \n",
      "\n",
      "2012                 Gillian Carleton Jasmin Glaesser Tara Whitten Canada               Cycling              bronze              \n",
      "\n",
      "2016                 Allison Beveridge Laura Brown Jasmin Glaesser Kirsti Lay Georgia Simmerling Canada               Cycling              bronze              \n",
      "\n",
      "2016                 Catharine Pendrel    Canada               Cycling              bronze              \n",
      "\n",
      "2020                 Kelsey Mitchell      Canada               Cycling              gold                \n",
      "\n",
      "2020                 Lauriane Genest      Canada               Cycling              bronze              \n",
      "\n",
      "Select one option :\n",
      "1. Add details \n",
      "2. View details \n",
      "3. View Medal Count by Country \n",
      "4. Search Athlete Performance \n",
      "5. View Event Details \n",
      "6. View Statistics \n",
      "7. Exit.\n",
      "\n"
     ]
    },
    {
     "name": "stdin",
     "output_type": "stream",
     "text": [
      "Enter option number :  6\n"
     ]
    },
    {
     "name": "stdout",
     "output_type": "stream",
     "text": [
      "Toatal number of Sports : 7\n",
      "Total number of Athletes : 7\n",
      "\n",
      "Select one option :\n",
      "1. Add details \n",
      "2. View details \n",
      "3. View Medal Count by Country \n",
      "4. Search Athlete Performance \n",
      "5. View Event Details \n",
      "6. View Statistics \n",
      "7. Exit.\n",
      "\n"
     ]
    },
    {
     "name": "stdin",
     "output_type": "stream",
     "text": [
      "Enter option number :  3\n"
     ]
    },
    {
     "name": "stdout",
     "output_type": "stream",
     "text": [
      "\n",
      "Gold medal : 2\n",
      "Silver medal : 1\n",
      "Bronze medal : 4\n",
      "\n",
      "    And the total number of medals won by Canada is : 7\n",
      "\n",
      "Select one option :\n",
      "1. Add details \n",
      "2. View details \n",
      "3. View Medal Count by Country \n",
      "4. Search Athlete Performance \n",
      "5. View Event Details \n",
      "6. View Statistics \n",
      "7. Exit.\n",
      "\n"
     ]
    },
    {
     "name": "stdin",
     "output_type": "stream",
     "text": [
      "Enter option number :  4\n",
      "Enter the name of athlete : Lauriane Genest \n"
     ]
    },
    {
     "name": "stdout",
     "output_type": "stream",
     "text": [
      "\n",
      "Select one option :\n",
      "1. Add details \n",
      "2. View details \n",
      "3. View Medal Count by Country \n",
      "4. Search Athlete Performance \n",
      "5. View Event Details \n",
      "6. View Statistics \n",
      "7. Exit.\n",
      "\n"
     ]
    },
    {
     "name": "stdin",
     "output_type": "stream",
     "text": [
      "Enter option number :  4\n",
      "Enter the name of athlete : Lori-Ann Muenze\n"
     ]
    },
    {
     "name": "stdout",
     "output_type": "stream",
     "text": [
      "\n",
      "Select one option :\n",
      "1. Add details \n",
      "2. View details \n",
      "3. View Medal Count by Country \n",
      "4. Search Athlete Performance \n",
      "5. View Event Details \n",
      "6. View Statistics \n",
      "7. Exit.\n",
      "\n"
     ]
    },
    {
     "name": "stdin",
     "output_type": "stream",
     "text": [
      "Enter option number :  5\n",
      "Enter the sport name :  Cycling\n"
     ]
    },
    {
     "name": "stdout",
     "output_type": "stream",
     "text": [
      "\n",
      "Year                 Name                 Cuntry               Sport                Medal_Type          \n",
      "\n",
      "2004                 Lori-Ann Muenzer     Canada               Cycling              gold                \n",
      "\n",
      "Year                 Name                 Cuntry               Sport                Medal_Type          \n",
      "\n",
      "2004                 Marie-Helene Premont Canada               Cycling              silver              \n",
      "\n",
      "Year                 Name                 Cuntry               Sport                Medal_Type          \n",
      "\n",
      "2012                 Gillian Carleton Jasmin Glaesser Tara Whitten Canada               Cycling              bronze              \n",
      "\n",
      "Year                 Name                 Cuntry               Sport                Medal_Type          \n",
      "\n",
      "2016                 Allison Beveridge Laura Brown Jasmin Glaesser Kirsti Lay Georgia Simmerling Canada               Cycling              bronze              \n",
      "\n",
      "Year                 Name                 Cuntry               Sport                Medal_Type          \n",
      "\n",
      "2016                 Catharine Pendrel    Canada               Cycling              bronze              \n",
      "\n",
      "Year                 Name                 Cuntry               Sport                Medal_Type          \n",
      "\n",
      "2020                 Kelsey Mitchell      Canada               Cycling              gold                \n",
      "\n",
      "Year                 Name                 Cuntry               Sport                Medal_Type          \n",
      "\n",
      "2020                 Lauriane Genest      Canada               Cycling              bronze              \n",
      "\n",
      "Select one option :\n",
      "1. Add details \n",
      "2. View details \n",
      "3. View Medal Count by Country \n",
      "4. Search Athlete Performance \n",
      "5. View Event Details \n",
      "6. View Statistics \n",
      "7. Exit.\n",
      "\n"
     ]
    },
    {
     "name": "stdin",
     "output_type": "stream",
     "text": [
      "Enter option number :  4\n",
      "Enter the name of athlete : Lauriane Genest\n"
     ]
    },
    {
     "name": "stdout",
     "output_type": "stream",
     "text": [
      "\n",
      "Year                 Name                 Cuntry               Sport                Medal_Type          \n",
      "\n",
      "2020                 Lauriane Genest      Canada               Cycling              bronze              \n",
      "\n",
      "Select one option :\n",
      "1. Add details \n",
      "2. View details \n",
      "3. View Medal Count by Country \n",
      "4. Search Athlete Performance \n",
      "5. View Event Details \n",
      "6. View Statistics \n",
      "7. Exit.\n",
      "\n"
     ]
    },
    {
     "name": "stdin",
     "output_type": "stream",
     "text": [
      "Enter option number :  4\n",
      "Enter the name of athlete : Lauriane Genest\n"
     ]
    },
    {
     "name": "stdout",
     "output_type": "stream",
     "text": [
      "\n",
      "Year                 Name                 Cuntry               Sport                Medal_Type          \n",
      "\n",
      "2020                 Lauriane Genest      Canada               Cycling              bronze              \n",
      "\n",
      "Select one option :\n",
      "1. Add details \n",
      "2. View details \n",
      "3. View Medal Count by Country \n",
      "4. Search Athlete Performance \n",
      "5. View Event Details \n",
      "6. View Statistics \n",
      "7. Exit.\n",
      "\n"
     ]
    },
    {
     "name": "stdin",
     "output_type": "stream",
     "text": [
      "Enter option number :  7\n"
     ]
    },
    {
     "name": "stdout",
     "output_type": "stream",
     "text": [
      "Thank you\n"
     ]
    }
   ],
   "source": [
    "record = []\n",
    "\n",
    "def AddDetails():\n",
    "    while True:\n",
    "        # print(\"Enter val number or 'Done' for Exit.\")\n",
    "        n=input(\"Enter the year or 'done' for exit.\")\n",
    "        if n == 'done':\n",
    "            # print(\"Thank you\")\n",
    "            break\n",
    "        medal = int(input(\"Enter the total number's of medal won by \"+country+\" in \"+n+\" year.\"))\n",
    "\n",
    "        for i in range (medal):\n",
    "            \n",
    "            name = input(\"Enter the athlete name : \")\n",
    "            # cuntry = input(\"Enter the cuntry name : \")\n",
    "            sport = input(\"Enter the sport name : \")\n",
    "            medaltype = input(\"Enter the medal type ( gold / silver / bronze )\")\n",
    "\n",
    "            record.append(\n",
    "                {\n",
    "                    'Year':n,\n",
    "                    'Name' : name,\n",
    "                    'Country' : country,\n",
    "                    'Sport': sport,\n",
    "                    'MedalType':medaltype\n",
    "                })\n",
    "            \n",
    "    \n",
    "\n",
    "def ViewDetails():\n",
    "\n",
    "    # print(record)\n",
    "\n",
    "    header = f\"\\n{'Year' :<20} {'Name' :<20} {'Country' :<20} {'Sport' :<20} {'Medal_Type' :<20}\" \n",
    "    print(header)\n",
    "\n",
    "    for data in record:\n",
    "\n",
    "        row = f\"\\n{data['Year']:<20} {data['Name']:<20} {data['Country']:<20} {data['Sport']:<20} {data['MedalType']:<20}\"\n",
    "        \n",
    "        print(row)\n",
    "\n",
    "\n",
    "\n",
    "def MedalCount():\n",
    "    sumgold=0\n",
    "    sumsilver=0\n",
    "    sumbronze=0\n",
    "    for i in record:\n",
    "        if i['MedalType']=='gold':\n",
    "            sumgold = sumgold+1\n",
    "        elif i['MedalType']=='silver':\n",
    "            sumsilver=sumsilver +1\n",
    "        elif i['MedalType']=='bronze':\n",
    "            sumbronze = sumbronze+1\n",
    "        \n",
    "    sum = sumgold + sumsilver + sumbronze\n",
    "    print(f'''\\nGold medal : {sumgold}\\nSilver medal : {sumsilver}\\nBronze medal : {sumbronze}\\n\n",
    "    And the total number of medals won by {cuntry} is : {sum}''')\n",
    "\n",
    "\n",
    "\n",
    "\n",
    "def Search():\n",
    "    athleteName = input(\"Enter the name of athlete :\")\n",
    "    for data in record:\n",
    "        if data['Name'].lower() == athleteName.lower():\n",
    "            # print(f\"{data['Name']:<20} {data['Sport']:<20} {data['MedalType']}\")\n",
    "            header = f\"\\n{'Year' :<20} {'Name' :<20} {'Country':<20} {'Sport' :<20} {'Medal_Type' :<20}\" \n",
    "            print(header)\n",
    "\n",
    "            # for data in record:\n",
    "\n",
    "            row = f\"\\n{data['Year']:<20} {data['Name']:<20} {data['Country']:<20} {data['Sport']:<20} {data['MedalType']:<20}\"\n",
    "        \n",
    "            print(row)\n",
    "\n",
    "\n",
    "        # else:\n",
    "        #     print(\"Not in list\")\n",
    "            \n",
    "\n",
    "\n",
    "\n",
    "def ViewEventDetails():\n",
    "    sportname = input(\"Enter the sport name : \")\n",
    "    for data in record:\n",
    "        if data['Sport'].lower() == sportname.lower():                \n",
    "            # print(f\"{data['Name']:<20} {data['Sport']:<20} {data['MedalType']}\")\n",
    "            header = f\"\\n{'Year' :<20} {'Name' :<20} {'Country':<20} {'Sport' :<20} {'Medal_Type' :<20}\" \n",
    "            print(header)\n",
    "    \n",
    "                # for data in record:\n",
    "    \n",
    "            row = f\"\\n{data['Year']:<20} {data['Name']:<20} {data['Country']:<20} {data['Sport']:<20} {data['MedalType']:<20}\"\n",
    "            \n",
    "            print(row)\n",
    "            \n",
    "        # else:               \n",
    "        #     print(\"Not in list\")\n",
    "        #     break\n",
    "    \n",
    "    \n",
    "\n",
    "\n",
    "def Statics():\n",
    "    totalSports = []\n",
    "    totalAthlete = []\n",
    "\n",
    "    for data in record:\n",
    "        totalSports.append(data['Sport'])\n",
    "        totalAthlete.append(data['Name'])\n",
    "\n",
    "\n",
    "    print(f\"Toatal number of Sports : {len(totalSports)}\\nTotal number of Athletes : {len(totalAthlete)}\")\n",
    "\n",
    "    \n",
    "\n",
    "\n",
    "print(f\"Olympic Records\\n\")\n",
    "country=input(\"Enter the Country Name : \")\n",
    "while True:\n",
    "    print(f'''\\nSelect one option :\n",
    "1. Add details \n",
    "2. View details \n",
    "3. View Medal Count by Country \n",
    "4. Search Athlete Performance \n",
    "5. View Event Details \n",
    "6. View Statistics \n",
    "7. Exit.\\n''')\n",
    "    value = int(input(\"Enter option number : \"))\n",
    "    match value:\n",
    "        case 1:\n",
    "            AddDetails()\n",
    "        case 2:\n",
    "            ViewDetails()\n",
    "        case 3:\n",
    "            MedalCount()\n",
    "        case 4:\n",
    "            Search()\n",
    "        case 5:\n",
    "            ViewEventDetails()\n",
    "        case 6:\n",
    "            Statics()\n",
    "        case _:\n",
    "            print(\"Thank you\")\n",
    "            break\n",
    "\n"
   ]
  },
  {
   "cell_type": "code",
   "execution_count": null,
   "id": "6bb4f455-2223-4dba-b5e6-5c7a11964b9e",
   "metadata": {},
   "outputs": [],
   "source": [
    "def storedData():\n",
    "    record = [\n",
    "        { \"Year\" : "
   ]
  }
 ],
 "metadata": {
  "kernelspec": {
   "display_name": "Python 3 (ipykernel)",
   "language": "python",
   "name": "python3"
  },
  "language_info": {
   "codemirror_mode": {
    "name": "ipython",
    "version": 3
   },
   "file_extension": ".py",
   "mimetype": "text/x-python",
   "name": "python",
   "nbconvert_exporter": "python",
   "pygments_lexer": "ipython3",
   "version": "3.12.4"
  }
 },
 "nbformat": 4,
 "nbformat_minor": 5
}
